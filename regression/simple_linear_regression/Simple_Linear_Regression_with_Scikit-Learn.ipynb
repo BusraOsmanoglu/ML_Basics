{
 "cells": [
  {
   "cell_type": "markdown",
   "id": "573e0cf4-e2ed-4490-a8de-556ee9eac006",
   "metadata": {},
   "source": [
    "<h1 style=\"font-weight: bold;\">SIMPLE LINEAR REGRESSION with SCIKIT-LEARN</h1>"
   ]
  },
  {
   "cell_type": "markdown",
   "id": "6f9b6167-6d47-4e7e-8d84-5bde60a44d7d",
   "metadata": {},
   "source": [
    "<p style=\"font-size: 20px; font-weight: 400;\"><i>The Dataset in CSV format</i> is converted to <i>a Pandas Dataframe</i>.</p>\n"
   ]
  },
  {
   "cell_type": "code",
   "execution_count": null,
   "id": "c4f11bb2-3cfd-4feb-8eb0-d732d6e72e95",
   "metadata": {},
   "outputs": [],
   "source": [
    "import pandas as pd\n",
    "\n",
    "df = pd.read_csv(\"simple_linear_regression_data.csv\")\n",
    "df.head()"
   ]
  },
  {
   "cell_type": "markdown",
   "id": "76c2b8f5-286f-4585-9ddb-40d3e1ba59b4",
   "metadata": {},
   "source": [
    "<p style=\"font-size: 20px; font-weight: 400;\"><i>The Dataframe</i> is divided into <i>Features (X)</i> and <i>Labels (Y)</i> datasets.</p>"
   ]
  },
  {
   "cell_type": "code",
   "execution_count": null,
   "id": "09b01a9e-5cc8-456a-83bf-40f995eda42f",
   "metadata": {},
   "outputs": [],
   "source": [
    "x, y = df.iloc[:,:1], df.iloc[:,1]"
   ]
  },
  {
   "cell_type": "markdown",
   "id": "9be00323-8512-44b0-a307-8c3caae31aec",
   "metadata": {},
   "source": [
    "<p style=\"font-size: 20px; font-weight: 400;\"><i>The Features (X)</i> and <i>Labels (Y)</i> are splitted into their corresponding <i>Train</i> and <i>Test</i> sets, with <i>the Test size</i> being <i>one-fifth</i> of the whole dataset.</p>"
   ]
  },
  {
   "cell_type": "code",
   "execution_count": null,
   "id": "9b26d028-4381-4607-b370-b351a24a4dcd",
   "metadata": {},
   "outputs": [],
   "source": [
    "from sklearn.model_selection import train_test_split\n",
    "\n",
    "x_train, x_test, y_train, y_test = train_test_split(x, y, test_size=0.2, random_state=0)"
   ]
  },
  {
   "cell_type": "markdown",
   "id": "e88f3dbd-2ac3-4a62-a46c-c311088fe64d",
   "metadata": {},
   "source": [
    "<h2 style=\"font-weight: bold;\">Simple Linear Regression</h2>\n",
    "<p style=\"font-size: 20px; font-weight: 400;\"><i>Simple Linear Regression</i> is a statistical method used to model the <i>linear relationship</i> between <i>single independent variable (X)</i> and <i>single dependent variable (Y)</i>. In this model, the dependent variable (Y), is forecasted based on the independent variable (X).</p>\n",
    "<p style=\"font-size: 20px; font-weight: 400;\"><i>Formula: </i></p>\n",
    "<div style=\"text-align: left;\">\n",
    "    <p style=\"text-align: center; font-size: 20px; font-weight: 400;\"\">y = &beta;<sub>0</sub> + &beta;<sub>1</sub> x + &epsilon;</p>\n",
    "         <p style=\"text-align: right; font-size: 16px;\"><strong>x:</strong> Independent Variable &nbsp;&nbsp;&nbsp;&nbsp;&nbsp;&nbsp;&nbsp;&nbsp;&nbsp;&nbsp;&nbsp;</p>\n",
    "                  <p style=\"text-align: right; font-size: 16px;\"><strong>y:</strong> Dependent Variable &nbsp;&nbsp;&nbsp;&nbsp;&nbsp;&nbsp;&nbsp;&nbsp;&nbsp;&nbsp;&nbsp;&nbsp;&nbsp;&nbsp;</p>\n",
    "     <p style=\"text-align: right; font-size: 16px;\"><strong>&beta;<sub>0</sub>:</strong> Intercept Value&nbsp;&nbsp;&nbsp;&nbsp;&nbsp;&nbsp;&nbsp;&nbsp;&nbsp;&nbsp;&nbsp;&nbsp;&nbsp;&nbsp;&nbsp;&nbsp;&nbsp;&nbsp;&nbsp;&nbsp;&nbsp;&nbsp;&nbsp;&nbsp;</p>\n",
    "    <p style=\"text-align: right; font-size: 16px;\"><strong>&beta;<sub>1</sub>:</strong> Slope Value&nbsp;&nbsp;&nbsp;&nbsp;&nbsp;&nbsp;&nbsp;&nbsp;&nbsp;&nbsp;&nbsp;&nbsp;&nbsp;&nbsp;&nbsp;&nbsp;&nbsp;&nbsp;&nbsp;&nbsp;&nbsp;&nbsp;&nbsp;&nbsp;&nbsp;&nbsp;&nbsp;&nbsp;&nbsp;&nbsp;&nbsp;</p>\n",
    "    <p style=\"text-align: right; font-size: 16px;\"><strong>&epsilon;:</strong> Error Value &nbsp;&nbsp;&nbsp;&nbsp;&nbsp;&nbsp;&nbsp;&nbsp;&nbsp;&nbsp;&nbsp;&nbsp;&nbsp;&nbsp;&nbsp;&nbsp;&nbsp;&nbsp;&nbsp;&nbsp;&nbsp;&nbsp;&nbsp;&nbsp;&nbsp;&nbsp;&nbsp;&nbsp;&nbsp;&nbsp;&nbsp;</p>\n",
    "\n",
    "</div>"
   ]
  },
  {
   "cell_type": "markdown",
   "id": "529d970b-86e6-4192-a16f-c7522800858c",
   "metadata": {},
   "source": [
    "<p style=\"font-size: 20px; font-weight: 400;\"><i>The Linear Regression Model Object</i> is defined by utilizing <i>Scikit-Learn</i> library. It is fitted using the <i>training features</i> and <i>labels</i>, and <i>the Linear Regression Formula</i> is derived.</p>"
   ]
  },
  {
   "cell_type": "code",
   "execution_count": null,
   "id": "359ef17b-9e33-453d-9420-47d5bb2582c8",
   "metadata": {},
   "outputs": [],
   "source": [
    "from sklearn.linear_model import LinearRegression\n",
    "\n",
    "lr = LinearRegression()\n",
    "lr.fit(x_train, y_train)\n",
    "\n",
    "equation = f\"y = { round(lr.intercept_, 3) } + { round(lr.coef_[0], 3) } x \"\n",
    "print(f\"The Simple Linear Regression Formula : { equation }\")"
   ]
  },
  {
   "cell_type": "markdown",
   "id": "d9fcf3d5-3621-4e9d-bb80-102a595ecf2a",
   "metadata": {},
   "source": [
    "<p style=\"font-size: 20px; font-weight: 400;\">Then the model is used to predict the test labels using the test features dataset.</p>"
   ]
  },
  {
   "cell_type": "code",
   "execution_count": null,
   "id": "b07dc11f-409e-4162-8711-aa3e82a0351f",
   "metadata": {},
   "outputs": [],
   "source": [
    "preds = lr.predict(x_test)\n",
    "preds"
   ]
  },
  {
   "cell_type": "markdown",
   "id": "6a92dcca-1ac4-40cf-bf0b-5df700aee1ed",
   "metadata": {},
   "source": [
    "<script type=\"text/x-mathjax-config\">\n",
    "  MathJax.Hub.Config({\n",
    "    tex2jax: {inlineMath: [['$','$'], ['\\\\(','\\\\)']]}\n",
    "  });\n",
    "</script>\n",
    "<script src=\"https://cdnjs.cloudflare.com/ajax/libs/mathjax/2.7.7/MathJax.js?config=TeX-AMS_HTML\"></script>\n",
    "<h2 style=\"font-weight: bold;\">Mean Squared Error</h2>\n",
    "<p style=\"font-size: 20px; font-weight: 400;\"><i>The Mean Squared Error</i> is the average squared difference between <i>observed</i> and <i>predicted values.</i> MSE is frequently used for evaluating the performance of regression models.</p>\n",
    "<p style=\"font-size: 20px; font-weight: 400;\"><i>Formula: </i></p>\n",
    "<div style=\"text-align: left;\">\n",
    "    <p style=\"font-size: 20px; font-weight: 400;\">$$\\text{MSE} = \\frac{1}{n} \\sum_{i=1}^{n} (y_i - \\ p_i)^2$$</p>\n",
    "    <p style=\"text-align: right; font-size: 16px;\"><strong>n:</strong> Number of Instances (Rows)&nbsp;&nbsp;&nbsp;&nbsp;</p>\n",
    "    <p style=\"text-align: right; font-size: 16px;\"><strong>y<sub>i</sub>:</strong> \\(i\\)th Actual Y Value&nbsp;&nbsp;&nbsp;&nbsp;&nbsp;&nbsp;&nbsp;&nbsp;&nbsp;&nbsp;&nbsp;&nbsp;&nbsp;&nbsp;&nbsp;&nbsp;&nbsp;&nbsp;&nbsp;&nbsp;&nbsp;&nbsp;</p>\n",
    "    <p style=\"text-align: right; font-size: 16px;\"><strong>p<sub>i</sub>:</strong> \\(i\\)th Prediction Value&nbsp;&nbsp;&nbsp;&nbsp;&nbsp;&nbsp;&nbsp;&nbsp;&nbsp;&nbsp;&nbsp;&nbsp;&nbsp;&nbsp;&nbsp;&nbsp;&nbsp;&nbsp;</p>\n",
    "\n",
    "</div>"
   ]
  },
  {
   "cell_type": "markdown",
   "id": "24dcb2bd-24ea-41f8-a906-da77b544e539",
   "metadata": {},
   "source": [
    "<p style=\"font-size: 20px; font-weight: 400;\"><i>The Mean Squared Error</i> is calculated by using <i>Predictions</i> and <i>Actual Y Values.</i></p>"
   ]
  },
  {
   "cell_type": "code",
   "execution_count": null,
   "id": "c1a5ce23-988c-4bbf-968c-a5752f81db9f",
   "metadata": {},
   "outputs": [],
   "source": [
    "from sklearn.metrics import mean_squared_error\n",
    "\n",
    "mse = mean_squared_error(y_test, preds)\n",
    "print(\"The Mean Squared Error:\", round(mse, 3))"
   ]
  },
  {
   "cell_type": "markdown",
   "id": "7368161f-e53a-49e1-b83d-56b1b834e5f0",
   "metadata": {},
   "source": [
    "<p style=\"font-size: 20px; font-weight: 400;\">The chart below demonstrates <i>the Actual Y Values</i> in the Test set, <i>the Prediction Line</i> created by Linear Regression for the Test set, <i>The Equation of The Prediction Line</i>, and <i>the Error Lines</i> depicting the difference between the Actual Test Values and the Predicted Test Values.</p>"
   ]
  },
  {
   "cell_type": "code",
   "execution_count": null,
   "id": "a00a4201-123c-4106-b69d-d59568895d77",
   "metadata": {},
   "outputs": [],
   "source": [
    "import seaborn as sns\n",
    "import matplotlib.pyplot as plt\n",
    "\n",
    "plt.figure(figsize=[16,8])\n",
    "\n",
    "#Actual Y Values (BLUE)\n",
    "plt.scatter(x_test.values.reshape(-1),\n",
    "            y_test,\n",
    "            color=sns.color_palette()[0],\n",
    "            s=90,\n",
    "            label=\"Actual Y Values\")\n",
    "\n",
    "#Linear Regression Line (ORANGE)\n",
    "sns.lineplot(x=x_test.values.reshape(-1),\n",
    "             y=preds.reshape(-1),\n",
    "             color=sns.color_palette()[1],\n",
    "             label=\"Regression Line\")\n",
    "\n",
    "#Linear Regression Equation\n",
    "plt.text(x=0.6,\n",
    "         y=0.3, \n",
    "         s=equation, \n",
    "         fontsize=13, \n",
    "         transform=plt.gca().transAxes, \n",
    "         bbox=dict(edgecolor=sns.color_palette()[1],\n",
    "                   linewidth=1.5, \n",
    "                   facecolor='white', \n",
    "                   alpha=0.7))\n",
    "\n",
    "#Error Lines (RED)\n",
    "for i in range(y_test.shape[0]):\n",
    "    plt.plot([x_test.values.reshape(-1)[i]]*2,\n",
    "             [y_test.values[i], preds.reshape(-1)[i]],\n",
    "             color=sns.color_palette()[3],\n",
    "             linewidth=2.5,\n",
    "             label=\"Error Lines\" if i == 0 else \"_nolegend_\")\n",
    "\n",
    "\n",
    "plt.title(\"SIMPLE LINEAR REGRESSION\", fontsize=24, pad=15)\n",
    "plt.xlabel(\"X\", fontsize=18)\n",
    "plt.legend(fontsize='12')\n",
    "plt.show()"
   ]
  }
 ],
 "metadata": {
  "kernelspec": {
   "display_name": "Python 3 (ipykernel)",
   "language": "python",
   "name": "python3"
  },
  "language_info": {
   "codemirror_mode": {
    "name": "ipython",
    "version": 3
   },
   "file_extension": ".py",
   "mimetype": "text/x-python",
   "name": "python",
   "nbconvert_exporter": "python",
   "pygments_lexer": "ipython3",
   "version": "3.8.10"
  }
 },
 "nbformat": 4,
 "nbformat_minor": 5
}
